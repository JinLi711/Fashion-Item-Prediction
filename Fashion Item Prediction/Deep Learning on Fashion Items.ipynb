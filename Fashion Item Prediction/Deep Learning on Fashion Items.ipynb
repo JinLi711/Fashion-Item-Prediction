{
 "cells": [
  {
   "cell_type": "code",
   "execution_count": 1,
   "metadata": {},
   "outputs": [
    {
     "name": "stderr",
     "output_type": "stream",
     "text": [
      "/Users/jinli/anaconda3/lib/python3.6/site-packages/h5py/__init__.py:34: FutureWarning: Conversion of the second argument of issubdtype from `float` to `np.floating` is deprecated. In future, it will be treated as `np.float64 == np.dtype(float).type`.\n",
      "  from ._conv import register_converters as _register_converters\n"
     ]
    }
   ],
   "source": [
    "import tensorflow as tf\n",
    "import pandas as pd\n",
    "import numpy as np"
   ]
  },
  {
   "cell_type": "code",
   "execution_count": 3,
   "metadata": {},
   "outputs": [],
   "source": [
    "raw_data = pd.read_csv('data/train.csv')\n",
    "X, Y =  raw_data.drop('label', axis=1).values, raw_data.loc[:,'label'].values"
   ]
  },
  {
   "cell_type": "code",
   "execution_count": 4,
   "metadata": {
    "collapsed": true
   },
   "outputs": [],
   "source": [
    "X = X.astype(np.float32)\n",
    "Y = Y.astype(np.float32)"
   ]
  },
  {
   "cell_type": "code",
   "execution_count": 5,
   "metadata": {},
   "outputs": [
    {
     "data": {
      "text/plain": [
       "(60000, 784)"
      ]
     },
     "execution_count": 5,
     "metadata": {},
     "output_type": "execute_result"
    }
   ],
   "source": [
    "X.shape"
   ]
  },
  {
   "cell_type": "code",
   "execution_count": 6,
   "metadata": {},
   "outputs": [
    {
     "data": {
      "text/plain": [
       "(60000,)"
      ]
     },
     "execution_count": 6,
     "metadata": {},
     "output_type": "execute_result"
    }
   ],
   "source": [
    "Y.shape"
   ]
  },
  {
   "cell_type": "code",
   "execution_count": 7,
   "metadata": {},
   "outputs": [],
   "source": [
    "import clean_data\n",
    "X_scaled = clean_data.num_pipeline(X)\n",
    "X_reduced = clean_data.inc_pca(X_scaled)"
   ]
  },
  {
   "cell_type": "code",
   "execution_count": 8,
   "metadata": {
    "collapsed": true
   },
   "outputs": [],
   "source": [
    "X_valid, X_train = X_reduced[:6000], X_reduced[6000:]\n",
    "y_valid, y_train = Y[:6000], Y[6000:]"
   ]
  },
  {
   "cell_type": "code",
   "execution_count": 9,
   "metadata": {},
   "outputs": [
    {
     "name": "stdout",
     "output_type": "stream",
     "text": [
      "\n"
     ]
    }
   ],
   "source": [
    "# Simpler way for DNN, but with limited functionality\n",
    "'''\n",
    "feature_cols = [tf.feature_column.numeric_column(\"X\", shape=[28 * 28])]\n",
    "dnn_clf = tf.estimator.DNNClassifier(hidden_units=[300,100], n_classes=10,\n",
    "                                     feature_columns=feature_cols)\n",
    "\n",
    "input_fn = tf.estimator.inputs.numpy_input_fn(\n",
    "    x={\"X\": X_scaled}, y=y, num_epochs=40, batch_size=50, shuffle=True)\n",
    "dnn_clf.train(input_fn=input_fn)\n",
    "'''\n",
    "print ('')"
   ]
  },
  {
   "cell_type": "code",
   "execution_count": 10,
   "metadata": {},
   "outputs": [
    {
     "name": "stdout",
     "output_type": "stream",
     "text": [
      "\n"
     ]
    }
   ],
   "source": [
    "'''\n",
    "test_input_fn = tf.estimator.inputs.numpy_input_fn(\n",
    "    x={\"X\": X_scaled}, y=y, shuffle=False)\n",
    "eval_results = dnn_clf.evaluate(input_fn=test_input_fn)\n",
    "'''\n",
    "print ('')"
   ]
  },
  {
   "cell_type": "code",
   "execution_count": 11,
   "metadata": {
    "collapsed": true
   },
   "outputs": [],
   "source": [
    "def shuffle_batch(X, y, batch_size):\n",
    "    rnd_idx = np.random.permutation(len(X))\n",
    "    n_batches = len(X) // batch_size\n",
    "    for batch_idx in np.array_split(rnd_idx, n_batches):\n",
    "        X_batch, y_batch = X[batch_idx], y[batch_idx]\n",
    "        yield X_batch, y_batch"
   ]
  },
  {
   "cell_type": "code",
   "execution_count": 12,
   "metadata": {
    "collapsed": true
   },
   "outputs": [],
   "source": [
    "n_inputs = 14*14  # dimensions were reduced\n",
    "#n_inputs = 28*28\n",
    "n_hidden1 = 150\n",
    "n_hidden2 = 75\n",
    "n_outputs = 10"
   ]
  },
  {
   "cell_type": "code",
   "execution_count": 13,
   "metadata": {
    "collapsed": true
   },
   "outputs": [],
   "source": [
    "X = tf.placeholder(tf.float32, \n",
    "                   shape=(None, n_inputs), \n",
    "                   name=\"X\")\n",
    "y = tf.placeholder(tf.int32, \n",
    "                   shape=(None), \n",
    "                   name=\"y\")\n",
    "training = tf.placeholder_with_default(False, \n",
    "                                       shape=(), \n",
    "                                       name=\"training\")"
   ]
  },
  {
   "cell_type": "code",
   "execution_count": 14,
   "metadata": {
    "collapsed": true
   },
   "outputs": [],
   "source": [
    "dropout_rate = .5\n",
    "X_drop = tf.layers.dropout(X, \n",
    "                           dropout_rate, \n",
    "                           training=training)\n",
    "\n",
    "with tf.name_scope(\"dnn\"):\n",
    "    hidden1 = tf.layers.dense(X_drop, \n",
    "                              n_hidden1, \n",
    "                              name=\"hidden1\",\n",
    "                              activation=tf.nn.relu)\n",
    "    hidden1_drop = tf.layers.dropout(hidden1, \n",
    "                                     dropout_rate, \n",
    "                                     training=training)\n",
    "    \n",
    "    hidden2 = tf.layers.dense(hidden1_drop, \n",
    "                              n_hidden2, \n",
    "                              name=\"hidden2\",\n",
    "                              activation=tf.nn.relu)\n",
    "    hidden2_drop = tf.layers.dropout(hidden2, \n",
    "                                     dropout_rate, \n",
    "                                     training=training)\n",
    "    \n",
    "    logits = tf.layers.dense(hidden2_drop, \n",
    "                             n_outputs, \n",
    "                             name=\"outputs\")\n",
    "    y_proba = tf.nn.softmax(logits)"
   ]
  },
  {
   "cell_type": "code",
   "execution_count": 15,
   "metadata": {
    "collapsed": true
   },
   "outputs": [],
   "source": [
    "with tf.name_scope(\"loss\"):\n",
    "    # Our cost function\n",
    "    # This computes the cross-entropy before going through softmax function\n",
    "    xentropy = tf.nn.sparse_softmax_cross_entropy_with_logits(labels=y, \n",
    "                                                              logits=logits)\n",
    "    # Reduce mean computes mean cross entropy over all instances\n",
    "    loss = tf.reduce_mean(xentropy, name=\"loss\")"
   ]
  },
  {
   "cell_type": "code",
   "execution_count": 16,
   "metadata": {
    "collapsed": true
   },
   "outputs": [],
   "source": [
    "learning_rate = 0.01\n",
    "\n",
    "with tf.name_scope(\"train\"):\n",
    "    # To tweak the parameters slightly to minimize the cost function\n",
    "    optimizer = tf.train.AdamOptimizer(learning_rate)\n",
    "    training_op = optimizer.minimize(loss)"
   ]
  },
  {
   "cell_type": "code",
   "execution_count": 17,
   "metadata": {
    "collapsed": true
   },
   "outputs": [],
   "source": [
    "with tf.name_scope(\"eval\"):\n",
    "    # This specifies how to evaluate the model\n",
    "    \"\"\"\n",
    "        in_top_k determines if the nn prediction is correct by checking whether the \n",
    "        highest logit correspond to the correct class.\n",
    "        It returns a 1D tensor of booleans, and we compute the average\n",
    "    \"\"\"\n",
    "    correct = tf.nn.in_top_k(logits, y, 1)\n",
    "    accuracy = tf.reduce_mean(tf.cast(correct, tf.float32))"
   ]
  },
  {
   "cell_type": "code",
   "execution_count": 18,
   "metadata": {
    "collapsed": true
   },
   "outputs": [],
   "source": [
    "init = tf.global_variables_initializer()\n",
    "saver = tf.train.Saver()"
   ]
  },
  {
   "cell_type": "code",
   "execution_count": 20,
   "metadata": {},
   "outputs": [
    {
     "name": "stdout",
     "output_type": "stream",
     "text": [
      "0 Batch accuracy: 0.94 Validation accuracy: 0.85316664\n",
      "1 Batch accuracy: 0.88 Validation accuracy: 0.8445\n",
      "2 Batch accuracy: 0.84 Validation accuracy: 0.85316664\n",
      "3 Batch accuracy: 0.94 Validation accuracy: 0.875\n",
      "4 Batch accuracy: 0.92 Validation accuracy: 0.8541667\n",
      "5 Batch accuracy: 0.88 Validation accuracy: 0.86366665\n",
      "6 Batch accuracy: 0.9 Validation accuracy: 0.8665\n",
      "7 Batch accuracy: 0.78 Validation accuracy: 0.8551667\n",
      "8 Batch accuracy: 0.96 Validation accuracy: 0.8693333\n",
      "9 Batch accuracy: 0.9 Validation accuracy: 0.8725\n",
      "10 Batch accuracy: 0.94 Validation accuracy: 0.85\n",
      "11 Batch accuracy: 0.96 Validation accuracy: 0.8715\n",
      "12 Batch accuracy: 0.92 Validation accuracy: 0.85183334\n",
      "13 Batch accuracy: 0.92 Validation accuracy: 0.85833335\n",
      "14 Batch accuracy: 0.92 Validation accuracy: 0.8653333\n",
      "15 Batch accuracy: 0.94 Validation accuracy: 0.85583335\n",
      "16 Batch accuracy: 0.92 Validation accuracy: 0.8666667\n",
      "17 Batch accuracy: 0.86 Validation accuracy: 0.853\n",
      "18 Batch accuracy: 0.92 Validation accuracy: 0.8408333\n",
      "19 Batch accuracy: 0.88 Validation accuracy: 0.851\n"
     ]
    }
   ],
   "source": [
    "n_epochs = 20\n",
    "batch_size = 50\n",
    "with tf.Session() as sess:\n",
    "    init.run()\n",
    "    for epoch in range(n_epochs):\n",
    "        for X_batch, y_batch in shuffle_batch(X_train, y_train, batch_size):\n",
    "            sess.run(training_op, feed_dict={X: X_batch, y: y_batch})\n",
    "        acc_batch = accuracy.eval(feed_dict={X: X_batch, y: y_batch})\n",
    "        acc_valid = accuracy.eval(feed_dict={X: X_valid, y: y_valid})\n",
    "        print(epoch, \"Batch accuracy:\", acc_batch, \"Validation accuracy:\", acc_valid)\n",
    "\n",
    "    save_path = saver.save(sess, \"DNN_models/my_model_final.ckpt\")"
   ]
  },
  {
   "cell_type": "code",
   "execution_count": null,
   "metadata": {
    "collapsed": true
   },
   "outputs": [],
   "source": []
  },
  {
   "cell_type": "code",
   "execution_count": null,
   "metadata": {
    "collapsed": true
   },
   "outputs": [],
   "source": []
  },
  {
   "cell_type": "code",
   "execution_count": null,
   "metadata": {},
   "outputs": [],
   "source": []
  },
  {
   "cell_type": "code",
   "execution_count": null,
   "metadata": {},
   "outputs": [],
   "source": []
  },
  {
   "cell_type": "code",
   "execution_count": null,
   "metadata": {
    "collapsed": true
   },
   "outputs": [],
   "source": []
  },
  {
   "cell_type": "code",
   "execution_count": null,
   "metadata": {
    "collapsed": true
   },
   "outputs": [],
   "source": []
  }
 ],
 "metadata": {
  "kernelspec": {
   "display_name": "Python 3",
   "language": "python",
   "name": "python3"
  },
  "language_info": {
   "codemirror_mode": {
    "name": "ipython",
    "version": 3
   },
   "file_extension": ".py",
   "mimetype": "text/x-python",
   "name": "python",
   "nbconvert_exporter": "python",
   "pygments_lexer": "ipython3",
   "version": "3.6.3"
  }
 },
 "nbformat": 4,
 "nbformat_minor": 2
}
